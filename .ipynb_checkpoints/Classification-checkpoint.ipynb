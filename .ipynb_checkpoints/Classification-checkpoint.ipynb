{
 "cells": [
  {
   "cell_type": "code",
   "execution_count": 1,
   "metadata": {},
   "outputs": [],
   "source": [
    "#Import Tensorflow\n",
    "import tensorflow as tf"
   ]
  },
  {
   "cell_type": "code",
   "execution_count": 5,
   "metadata": {},
   "outputs": [],
   "source": [
    "#Import the dataset from scikit-learn\n",
    "from sklearn.datasets import load_breast_cancer"
   ]
  },
  {
   "cell_type": "code",
   "execution_count": 6,
   "metadata": {},
   "outputs": [],
   "source": [
    "#Load the data\n",
    "data = load_breast_cancer()"
   ]
  },
  {
   "cell_type": "code",
   "execution_count": 9,
   "metadata": {},
   "outputs": [
    {
     "data": {
      "text/plain": [
       "sklearn.utils.Bunch"
      ]
     },
     "execution_count": 9,
     "metadata": {},
     "output_type": "execute_result"
    }
   ],
   "source": [
    "type(data)"
   ]
  },
  {
   "cell_type": "code",
   "execution_count": 11,
   "metadata": {},
   "outputs": [
    {
     "data": {
      "text/plain": [
       "dict_keys(['data', 'target', 'frame', 'target_names', 'DESCR', 'feature_names', 'filename'])"
      ]
     },
     "execution_count": 11,
     "metadata": {},
     "output_type": "execute_result"
    }
   ],
   "source": [
    "#Since its a bunch, see it's keys\n",
    "data.keys()"
   ]
  },
  {
   "cell_type": "code",
   "execution_count": 12,
   "metadata": {},
   "outputs": [
    {
     "data": {
      "text/plain": [
       "array([[1.799e+01, 1.038e+01, 1.228e+02, ..., 2.654e-01, 4.601e-01,\n",
       "        1.189e-01],\n",
       "       [2.057e+01, 1.777e+01, 1.329e+02, ..., 1.860e-01, 2.750e-01,\n",
       "        8.902e-02],\n",
       "       [1.969e+01, 2.125e+01, 1.300e+02, ..., 2.430e-01, 3.613e-01,\n",
       "        8.758e-02],\n",
       "       ...,\n",
       "       [1.660e+01, 2.808e+01, 1.083e+02, ..., 1.418e-01, 2.218e-01,\n",
       "        7.820e-02],\n",
       "       [2.060e+01, 2.933e+01, 1.401e+02, ..., 2.650e-01, 4.087e-01,\n",
       "        1.240e-01],\n",
       "       [7.760e+00, 2.454e+01, 4.792e+01, ..., 0.000e+00, 2.871e-01,\n",
       "        7.039e-02]])"
      ]
     },
     "execution_count": 12,
     "metadata": {},
     "output_type": "execute_result"
    }
   ],
   "source": [
    "#See the data\n",
    "data['data']"
   ]
  },
  {
   "cell_type": "code",
   "execution_count": 13,
   "metadata": {},
   "outputs": [
    {
     "data": {
      "text/plain": [
       "(569, 30)"
      ]
     },
     "execution_count": 13,
     "metadata": {},
     "output_type": "execute_result"
    }
   ],
   "source": [
    "#Data shape\n",
    "data['data'].shape"
   ]
  },
  {
   "cell_type": "code",
   "execution_count": 14,
   "metadata": {},
   "outputs": [
    {
     "data": {
      "text/plain": [
       "array([0, 0, 0, 0, 0, 0, 0, 0, 0, 0, 0, 0, 0, 0, 0, 0, 0, 0, 0, 1, 1, 1,\n",
       "       0, 0, 0, 0, 0, 0, 0, 0, 0, 0, 0, 0, 0, 0, 0, 1, 0, 0, 0, 0, 0, 0,\n",
       "       0, 0, 1, 0, 1, 1, 1, 1, 1, 0, 0, 1, 0, 0, 1, 1, 1, 1, 0, 1, 0, 0,\n",
       "       1, 1, 1, 1, 0, 1, 0, 0, 1, 0, 1, 0, 0, 1, 1, 1, 0, 0, 1, 0, 0, 0,\n",
       "       1, 1, 1, 0, 1, 1, 0, 0, 1, 1, 1, 0, 0, 1, 1, 1, 1, 0, 1, 1, 0, 1,\n",
       "       1, 1, 1, 1, 1, 1, 1, 0, 0, 0, 1, 0, 0, 1, 1, 1, 0, 0, 1, 0, 1, 0,\n",
       "       0, 1, 0, 0, 1, 1, 0, 1, 1, 0, 1, 1, 1, 1, 0, 1, 1, 1, 1, 1, 1, 1,\n",
       "       1, 1, 0, 1, 1, 1, 1, 0, 0, 1, 0, 1, 1, 0, 0, 1, 1, 0, 0, 1, 1, 1,\n",
       "       1, 0, 1, 1, 0, 0, 0, 1, 0, 1, 0, 1, 1, 1, 0, 1, 1, 0, 0, 1, 0, 0,\n",
       "       0, 0, 1, 0, 0, 0, 1, 0, 1, 0, 1, 1, 0, 1, 0, 0, 0, 0, 1, 1, 0, 0,\n",
       "       1, 1, 1, 0, 1, 1, 1, 1, 1, 0, 0, 1, 1, 0, 1, 1, 0, 0, 1, 0, 1, 1,\n",
       "       1, 1, 0, 1, 1, 1, 1, 1, 0, 1, 0, 0, 0, 0, 0, 0, 0, 0, 0, 0, 0, 0,\n",
       "       0, 0, 1, 1, 1, 1, 1, 1, 0, 1, 0, 1, 1, 0, 1, 1, 0, 1, 0, 0, 1, 1,\n",
       "       1, 1, 1, 1, 1, 1, 1, 1, 1, 1, 1, 0, 1, 1, 0, 1, 0, 1, 1, 1, 1, 1,\n",
       "       1, 1, 1, 1, 1, 1, 1, 1, 1, 0, 1, 1, 1, 0, 1, 0, 1, 1, 1, 1, 0, 0,\n",
       "       0, 1, 1, 1, 1, 0, 1, 0, 1, 0, 1, 1, 1, 0, 1, 1, 1, 1, 1, 1, 1, 0,\n",
       "       0, 0, 1, 1, 1, 1, 1, 1, 1, 1, 1, 1, 1, 0, 0, 1, 0, 0, 0, 1, 0, 0,\n",
       "       1, 1, 1, 1, 1, 0, 1, 1, 1, 1, 1, 0, 1, 1, 1, 0, 1, 1, 0, 0, 1, 1,\n",
       "       1, 1, 1, 1, 0, 1, 1, 1, 1, 1, 1, 1, 0, 1, 1, 1, 1, 1, 0, 1, 1, 0,\n",
       "       1, 1, 1, 1, 1, 1, 1, 1, 1, 1, 1, 1, 0, 1, 0, 0, 1, 0, 1, 1, 1, 1,\n",
       "       1, 0, 1, 1, 0, 1, 0, 1, 1, 0, 1, 0, 1, 1, 1, 1, 1, 1, 1, 1, 0, 0,\n",
       "       1, 1, 1, 1, 1, 1, 0, 1, 1, 1, 1, 1, 1, 1, 1, 1, 1, 0, 1, 1, 1, 1,\n",
       "       1, 1, 1, 0, 1, 0, 1, 1, 0, 1, 1, 1, 1, 1, 0, 0, 1, 0, 1, 0, 1, 1,\n",
       "       1, 1, 1, 0, 1, 1, 0, 1, 0, 1, 0, 0, 1, 1, 1, 0, 1, 1, 1, 1, 1, 1,\n",
       "       1, 1, 1, 1, 1, 0, 1, 0, 0, 1, 1, 1, 1, 1, 1, 1, 1, 1, 1, 1, 1, 1,\n",
       "       1, 1, 1, 1, 1, 1, 1, 1, 1, 1, 1, 1, 0, 0, 0, 0, 0, 0, 1])"
      ]
     },
     "execution_count": 14,
     "metadata": {},
     "output_type": "execute_result"
    }
   ],
   "source": [
    "#Target values\n",
    "data['target']"
   ]
  },
  {
   "cell_type": "code",
   "execution_count": 15,
   "metadata": {},
   "outputs": [
    {
     "data": {
      "text/plain": [
       "(569,)"
      ]
     },
     "execution_count": 15,
     "metadata": {},
     "output_type": "execute_result"
    }
   ],
   "source": [
    "#Target shape\n",
    "data['target'].shape"
   ]
  },
  {
   "cell_type": "code",
   "execution_count": 17,
   "metadata": {},
   "outputs": [
    {
     "data": {
      "text/plain": [
       "array(['mean radius', 'mean texture', 'mean perimeter', 'mean area',\n",
       "       'mean smoothness', 'mean compactness', 'mean concavity',\n",
       "       'mean concave points', 'mean symmetry', 'mean fractal dimension',\n",
       "       'radius error', 'texture error', 'perimeter error', 'area error',\n",
       "       'smoothness error', 'compactness error', 'concavity error',\n",
       "       'concave points error', 'symmetry error',\n",
       "       'fractal dimension error', 'worst radius', 'worst texture',\n",
       "       'worst perimeter', 'worst area', 'worst smoothness',\n",
       "       'worst compactness', 'worst concavity', 'worst concave points',\n",
       "       'worst symmetry', 'worst fractal dimension'], dtype='<U23')"
      ]
     },
     "execution_count": 17,
     "metadata": {},
     "output_type": "execute_result"
    }
   ],
   "source": [
    "#Feature names\n",
    "data['feature_names']"
   ]
  },
  {
   "cell_type": "code",
   "execution_count": 18,
   "metadata": {},
   "outputs": [
    {
     "data": {
      "text/plain": [
       "array(['malignant', 'benign'], dtype='<U9')"
      ]
     },
     "execution_count": 18,
     "metadata": {},
     "output_type": "execute_result"
    }
   ],
   "source": [
    "#Target Names\n",
    "data['target_names']"
   ]
  },
  {
   "cell_type": "code",
   "execution_count": 24,
   "metadata": {},
   "outputs": [
    {
     "name": "stdout",
     "output_type": "stream",
     "text": [
      "381 30\n"
     ]
    }
   ],
   "source": [
    "#Split the data into train and test sets, 33% of the dataset is test set\n",
    "from sklearn.model_selection import train_test_split\n",
    "X_train,X_test,y_train,y_test = train_test_split(data.data, data.target, test_size=0.33)\n",
    "\n",
    "N,D = X_train.shape\n",
    "print(N,D)  #Print the shape of X_train"
   ]
  },
  {
   "cell_type": "code",
   "execution_count": 26,
   "metadata": {},
   "outputs": [],
   "source": [
    "# Preprocess the data--> Normalization\n",
    "\n",
    "from sklearn.preprocessing import StandardScaler\n",
    "scaler = StandardScaler()\n",
    "X_train = scaler.fit_transform(X_train)\n",
    "X_test = scaler.transform(X_test)\n"
   ]
  },
  {
   "cell_type": "code",
   "execution_count": 28,
   "metadata": {},
   "outputs": [],
   "source": [
    "# Building a model\n",
    "\n",
    "model = tf.keras.models.Sequential([\n",
    "    tf.keras.layers.Input(shape = (D,)),\n",
    "    tf.keras.layers.Dense(1, activation = 'sigmoid')\n",
    "])\n",
    "\n",
    "# Compile the model with Adam optimizer, binary_crossentropy(2 labels in dataset)  loss function: -y*log y' - (1-y)* log(1 - y')\n",
    "\n",
    "model.compile(optimizer='adam', loss='binary_crossentropy', metrics=['accuracy'])\n"
   ]
  },
  {
   "cell_type": "code",
   "execution_count": 29,
   "metadata": {},
   "outputs": [
    {
     "name": "stdout",
     "output_type": "stream",
     "text": [
      "Epoch 1/100\n",
      "12/12 [==============================] - 0s 15ms/step - loss: 0.3371 - accuracy: 0.8714 - val_loss: 0.3040 - val_accuracy: 0.8936\n",
      "Epoch 2/100\n",
      "12/12 [==============================] - 0s 4ms/step - loss: 0.3113 - accuracy: 0.8819 - val_loss: 0.2809 - val_accuracy: 0.9149\n",
      "Epoch 3/100\n",
      "12/12 [==============================] - 0s 4ms/step - loss: 0.2895 - accuracy: 0.8898 - val_loss: 0.2625 - val_accuracy: 0.9149\n",
      "Epoch 4/100\n",
      "12/12 [==============================] - 0s 4ms/step - loss: 0.2716 - accuracy: 0.9003 - val_loss: 0.2472 - val_accuracy: 0.9255\n",
      "Epoch 5/100\n",
      "12/12 [==============================] - 0s 4ms/step - loss: 0.2564 - accuracy: 0.9081 - val_loss: 0.2348 - val_accuracy: 0.9255\n",
      "Epoch 6/100\n",
      "12/12 [==============================] - 0s 3ms/step - loss: 0.2440 - accuracy: 0.9134 - val_loss: 0.2243 - val_accuracy: 0.9362\n",
      "Epoch 7/100\n",
      "12/12 [==============================] - 0s 3ms/step - loss: 0.2331 - accuracy: 0.9186 - val_loss: 0.2151 - val_accuracy: 0.9362\n",
      "Epoch 8/100\n",
      "12/12 [==============================] - 0s 4ms/step - loss: 0.2241 - accuracy: 0.9213 - val_loss: 0.2068 - val_accuracy: 0.9362\n",
      "Epoch 9/100\n",
      "12/12 [==============================] - 0s 4ms/step - loss: 0.2156 - accuracy: 0.9291 - val_loss: 0.1997 - val_accuracy: 0.9362\n",
      "Epoch 10/100\n",
      "12/12 [==============================] - 0s 3ms/step - loss: 0.2084 - accuracy: 0.9265 - val_loss: 0.1933 - val_accuracy: 0.9362\n",
      "Epoch 11/100\n",
      "12/12 [==============================] - 0s 4ms/step - loss: 0.2019 - accuracy: 0.9344 - val_loss: 0.1874 - val_accuracy: 0.9415\n",
      "Epoch 12/100\n",
      "12/12 [==============================] - 0s 4ms/step - loss: 0.1959 - accuracy: 0.9370 - val_loss: 0.1819 - val_accuracy: 0.9415\n",
      "Epoch 13/100\n",
      "12/12 [==============================] - 0s 4ms/step - loss: 0.1905 - accuracy: 0.9396 - val_loss: 0.1771 - val_accuracy: 0.9415\n",
      "Epoch 14/100\n",
      "12/12 [==============================] - 0s 4ms/step - loss: 0.1854 - accuracy: 0.9423 - val_loss: 0.1726 - val_accuracy: 0.9362\n",
      "Epoch 15/100\n",
      "12/12 [==============================] - 0s 4ms/step - loss: 0.1809 - accuracy: 0.9449 - val_loss: 0.1683 - val_accuracy: 0.9362\n",
      "Epoch 16/100\n",
      "12/12 [==============================] - 0s 4ms/step - loss: 0.1767 - accuracy: 0.9475 - val_loss: 0.1645 - val_accuracy: 0.9362\n",
      "Epoch 17/100\n",
      "12/12 [==============================] - 0s 3ms/step - loss: 0.1727 - accuracy: 0.9475 - val_loss: 0.1605 - val_accuracy: 0.9362\n",
      "Epoch 18/100\n",
      "12/12 [==============================] - 0s 3ms/step - loss: 0.1689 - accuracy: 0.9475 - val_loss: 0.1573 - val_accuracy: 0.9468\n",
      "Epoch 19/100\n",
      "12/12 [==============================] - 0s 4ms/step - loss: 0.1655 - accuracy: 0.9475 - val_loss: 0.1541 - val_accuracy: 0.9521\n",
      "Epoch 20/100\n",
      "12/12 [==============================] - 0s 4ms/step - loss: 0.1623 - accuracy: 0.9501 - val_loss: 0.1510 - val_accuracy: 0.9521\n",
      "Epoch 21/100\n",
      "12/12 [==============================] - 0s 4ms/step - loss: 0.1591 - accuracy: 0.9501 - val_loss: 0.1482 - val_accuracy: 0.9521\n",
      "Epoch 22/100\n",
      "12/12 [==============================] - 0s 3ms/step - loss: 0.1564 - accuracy: 0.9528 - val_loss: 0.1454 - val_accuracy: 0.9521\n",
      "Epoch 23/100\n",
      "12/12 [==============================] - 0s 4ms/step - loss: 0.1536 - accuracy: 0.9528 - val_loss: 0.1430 - val_accuracy: 0.9521\n",
      "Epoch 24/100\n",
      "12/12 [==============================] - 0s 4ms/step - loss: 0.1510 - accuracy: 0.9528 - val_loss: 0.1405 - val_accuracy: 0.9521\n",
      "Epoch 25/100\n",
      "12/12 [==============================] - 0s 4ms/step - loss: 0.1486 - accuracy: 0.9528 - val_loss: 0.1384 - val_accuracy: 0.9521\n",
      "Epoch 26/100\n",
      "12/12 [==============================] - 0s 3ms/step - loss: 0.1462 - accuracy: 0.9528 - val_loss: 0.1361 - val_accuracy: 0.9521\n",
      "Epoch 27/100\n",
      "12/12 [==============================] - 0s 4ms/step - loss: 0.1439 - accuracy: 0.9528 - val_loss: 0.1342 - val_accuracy: 0.9521\n",
      "Epoch 28/100\n",
      "12/12 [==============================] - 0s 4ms/step - loss: 0.1419 - accuracy: 0.9528 - val_loss: 0.1321 - val_accuracy: 0.9521\n",
      "Epoch 29/100\n",
      "12/12 [==============================] - 0s 4ms/step - loss: 0.1398 - accuracy: 0.9528 - val_loss: 0.1304 - val_accuracy: 0.9521\n",
      "Epoch 30/100\n",
      "12/12 [==============================] - 0s 5ms/step - loss: 0.1380 - accuracy: 0.9501 - val_loss: 0.1286 - val_accuracy: 0.9521\n",
      "Epoch 31/100\n",
      "12/12 [==============================] - 0s 5ms/step - loss: 0.1362 - accuracy: 0.9501 - val_loss: 0.1269 - val_accuracy: 0.9521\n",
      "Epoch 32/100\n",
      "12/12 [==============================] - 0s 4ms/step - loss: 0.1343 - accuracy: 0.9528 - val_loss: 0.1253 - val_accuracy: 0.9521\n",
      "Epoch 33/100\n",
      "12/12 [==============================] - 0s 4ms/step - loss: 0.1326 - accuracy: 0.9554 - val_loss: 0.1236 - val_accuracy: 0.9521\n",
      "Epoch 34/100\n",
      "12/12 [==============================] - 0s 4ms/step - loss: 0.1310 - accuracy: 0.9554 - val_loss: 0.1221 - val_accuracy: 0.9521\n",
      "Epoch 35/100\n",
      "12/12 [==============================] - 0s 4ms/step - loss: 0.1294 - accuracy: 0.9554 - val_loss: 0.1208 - val_accuracy: 0.9521\n",
      "Epoch 36/100\n",
      "12/12 [==============================] - 0s 4ms/step - loss: 0.1279 - accuracy: 0.9554 - val_loss: 0.1193 - val_accuracy: 0.9521\n",
      "Epoch 37/100\n",
      "12/12 [==============================] - 0s 4ms/step - loss: 0.1265 - accuracy: 0.9554 - val_loss: 0.1181 - val_accuracy: 0.9521\n",
      "Epoch 38/100\n",
      "12/12 [==============================] - 0s 3ms/step - loss: 0.1251 - accuracy: 0.9554 - val_loss: 0.1168 - val_accuracy: 0.9574\n",
      "Epoch 39/100\n",
      "12/12 [==============================] - 0s 3ms/step - loss: 0.1238 - accuracy: 0.9554 - val_loss: 0.1155 - val_accuracy: 0.9574\n",
      "Epoch 40/100\n",
      "12/12 [==============================] - 0s 12ms/step - loss: 0.1224 - accuracy: 0.9580 - val_loss: 0.1143 - val_accuracy: 0.9574\n",
      "Epoch 41/100\n",
      "12/12 [==============================] - 0s 4ms/step - loss: 0.1211 - accuracy: 0.9580 - val_loss: 0.1133 - val_accuracy: 0.9574\n",
      "Epoch 42/100\n",
      "12/12 [==============================] - 0s 3ms/step - loss: 0.1199 - accuracy: 0.9580 - val_loss: 0.1121 - val_accuracy: 0.9574\n",
      "Epoch 43/100\n",
      "12/12 [==============================] - 0s 3ms/step - loss: 0.1187 - accuracy: 0.9580 - val_loss: 0.1111 - val_accuracy: 0.9574\n",
      "Epoch 44/100\n",
      "12/12 [==============================] - 0s 4ms/step - loss: 0.1176 - accuracy: 0.9580 - val_loss: 0.1100 - val_accuracy: 0.9574\n",
      "Epoch 45/100\n",
      "12/12 [==============================] - 0s 4ms/step - loss: 0.1164 - accuracy: 0.9580 - val_loss: 0.1089 - val_accuracy: 0.9574\n",
      "Epoch 46/100\n",
      "12/12 [==============================] - 0s 4ms/step - loss: 0.1154 - accuracy: 0.9580 - val_loss: 0.1082 - val_accuracy: 0.9574\n",
      "Epoch 47/100\n",
      "12/12 [==============================] - 0s 4ms/step - loss: 0.1143 - accuracy: 0.9606 - val_loss: 0.1072 - val_accuracy: 0.9574\n",
      "Epoch 48/100\n",
      "12/12 [==============================] - 0s 4ms/step - loss: 0.1133 - accuracy: 0.9606 - val_loss: 0.1063 - val_accuracy: 0.9574\n",
      "Epoch 49/100\n",
      "12/12 [==============================] - 0s 4ms/step - loss: 0.1123 - accuracy: 0.9606 - val_loss: 0.1054 - val_accuracy: 0.9574\n",
      "Epoch 50/100\n",
      "12/12 [==============================] - 0s 5ms/step - loss: 0.1113 - accuracy: 0.9606 - val_loss: 0.1046 - val_accuracy: 0.9574\n",
      "Epoch 51/100\n",
      "12/12 [==============================] - 0s 3ms/step - loss: 0.1104 - accuracy: 0.9633 - val_loss: 0.1038 - val_accuracy: 0.9574\n",
      "Epoch 52/100\n",
      "12/12 [==============================] - 0s 3ms/step - loss: 0.1095 - accuracy: 0.9633 - val_loss: 0.1030 - val_accuracy: 0.9574\n",
      "Epoch 53/100\n",
      "12/12 [==============================] - 0s 3ms/step - loss: 0.1086 - accuracy: 0.9633 - val_loss: 0.1022 - val_accuracy: 0.9574\n",
      "Epoch 54/100\n",
      "12/12 [==============================] - 0s 3ms/step - loss: 0.1078 - accuracy: 0.9633 - val_loss: 0.1014 - val_accuracy: 0.9628\n",
      "Epoch 55/100\n",
      "12/12 [==============================] - 0s 5ms/step - loss: 0.1069 - accuracy: 0.9633 - val_loss: 0.1007 - val_accuracy: 0.9628\n",
      "Epoch 56/100\n",
      "12/12 [==============================] - 0s 4ms/step - loss: 0.1061 - accuracy: 0.9633 - val_loss: 0.1000 - val_accuracy: 0.9628\n",
      "Epoch 57/100\n",
      "12/12 [==============================] - 0s 3ms/step - loss: 0.1053 - accuracy: 0.9633 - val_loss: 0.0993 - val_accuracy: 0.9681\n",
      "Epoch 58/100\n",
      "12/12 [==============================] - 0s 3ms/step - loss: 0.1045 - accuracy: 0.9633 - val_loss: 0.0986 - val_accuracy: 0.9681\n"
     ]
    },
    {
     "name": "stdout",
     "output_type": "stream",
     "text": [
      "Epoch 59/100\n",
      "12/12 [==============================] - 0s 4ms/step - loss: 0.1038 - accuracy: 0.9633 - val_loss: 0.0980 - val_accuracy: 0.9681\n",
      "Epoch 60/100\n",
      "12/12 [==============================] - 0s 3ms/step - loss: 0.1030 - accuracy: 0.9659 - val_loss: 0.0974 - val_accuracy: 0.9681\n",
      "Epoch 61/100\n",
      "12/12 [==============================] - 0s 4ms/step - loss: 0.1023 - accuracy: 0.9685 - val_loss: 0.0967 - val_accuracy: 0.9681\n",
      "Epoch 62/100\n",
      "12/12 [==============================] - 0s 3ms/step - loss: 0.1016 - accuracy: 0.9685 - val_loss: 0.0961 - val_accuracy: 0.9681\n",
      "Epoch 63/100\n",
      "12/12 [==============================] - 0s 3ms/step - loss: 0.1009 - accuracy: 0.9685 - val_loss: 0.0956 - val_accuracy: 0.9681\n",
      "Epoch 64/100\n",
      "12/12 [==============================] - 0s 3ms/step - loss: 0.1003 - accuracy: 0.9685 - val_loss: 0.0950 - val_accuracy: 0.9681\n",
      "Epoch 65/100\n",
      "12/12 [==============================] - 0s 3ms/step - loss: 0.0996 - accuracy: 0.9711 - val_loss: 0.0943 - val_accuracy: 0.9681\n",
      "Epoch 66/100\n",
      "12/12 [==============================] - 0s 3ms/step - loss: 0.0990 - accuracy: 0.9711 - val_loss: 0.0937 - val_accuracy: 0.9681\n",
      "Epoch 67/100\n",
      "12/12 [==============================] - 0s 3ms/step - loss: 0.0983 - accuracy: 0.9711 - val_loss: 0.0932 - val_accuracy: 0.9681\n",
      "Epoch 68/100\n",
      "12/12 [==============================] - 0s 4ms/step - loss: 0.0977 - accuracy: 0.9711 - val_loss: 0.0927 - val_accuracy: 0.9681\n",
      "Epoch 69/100\n",
      "12/12 [==============================] - 0s 4ms/step - loss: 0.0971 - accuracy: 0.9711 - val_loss: 0.0923 - val_accuracy: 0.9681\n",
      "Epoch 70/100\n",
      "12/12 [==============================] - 0s 3ms/step - loss: 0.0965 - accuracy: 0.9711 - val_loss: 0.0917 - val_accuracy: 0.9681\n",
      "Epoch 71/100\n",
      "12/12 [==============================] - 0s 3ms/step - loss: 0.0959 - accuracy: 0.9711 - val_loss: 0.0912 - val_accuracy: 0.9681\n",
      "Epoch 72/100\n",
      "12/12 [==============================] - 0s 4ms/step - loss: 0.0954 - accuracy: 0.9738 - val_loss: 0.0907 - val_accuracy: 0.9681\n",
      "Epoch 73/100\n",
      "12/12 [==============================] - 0s 4ms/step - loss: 0.0948 - accuracy: 0.9738 - val_loss: 0.0902 - val_accuracy: 0.9681\n",
      "Epoch 74/100\n",
      "12/12 [==============================] - 0s 4ms/step - loss: 0.0943 - accuracy: 0.9738 - val_loss: 0.0899 - val_accuracy: 0.9681\n",
      "Epoch 75/100\n",
      "12/12 [==============================] - 0s 4ms/step - loss: 0.0938 - accuracy: 0.9711 - val_loss: 0.0894 - val_accuracy: 0.9681\n",
      "Epoch 76/100\n",
      "12/12 [==============================] - 0s 4ms/step - loss: 0.0933 - accuracy: 0.9711 - val_loss: 0.0889 - val_accuracy: 0.9681\n",
      "Epoch 77/100\n",
      "12/12 [==============================] - 0s 4ms/step - loss: 0.0928 - accuracy: 0.9764 - val_loss: 0.0885 - val_accuracy: 0.9681\n",
      "Epoch 78/100\n",
      "12/12 [==============================] - 0s 4ms/step - loss: 0.0923 - accuracy: 0.9764 - val_loss: 0.0881 - val_accuracy: 0.9681\n",
      "Epoch 79/100\n",
      "12/12 [==============================] - 0s 4ms/step - loss: 0.0918 - accuracy: 0.9764 - val_loss: 0.0877 - val_accuracy: 0.9681\n",
      "Epoch 80/100\n",
      "12/12 [==============================] - 0s 4ms/step - loss: 0.0913 - accuracy: 0.9764 - val_loss: 0.0872 - val_accuracy: 0.9681\n",
      "Epoch 81/100\n",
      "12/12 [==============================] - 0s 4ms/step - loss: 0.0909 - accuracy: 0.9764 - val_loss: 0.0868 - val_accuracy: 0.9681\n",
      "Epoch 82/100\n",
      "12/12 [==============================] - 0s 4ms/step - loss: 0.0904 - accuracy: 0.9764 - val_loss: 0.0865 - val_accuracy: 0.9681\n",
      "Epoch 83/100\n",
      "12/12 [==============================] - 0s 3ms/step - loss: 0.0899 - accuracy: 0.9764 - val_loss: 0.0861 - val_accuracy: 0.9681\n",
      "Epoch 84/100\n",
      "12/12 [==============================] - 0s 4ms/step - loss: 0.0895 - accuracy: 0.9764 - val_loss: 0.0857 - val_accuracy: 0.9681\n",
      "Epoch 85/100\n",
      "12/12 [==============================] - 0s 4ms/step - loss: 0.0890 - accuracy: 0.9764 - val_loss: 0.0853 - val_accuracy: 0.9681\n",
      "Epoch 86/100\n",
      "12/12 [==============================] - 0s 5ms/step - loss: 0.0886 - accuracy: 0.9764 - val_loss: 0.0850 - val_accuracy: 0.9681\n",
      "Epoch 87/100\n",
      "12/12 [==============================] - 0s 4ms/step - loss: 0.0882 - accuracy: 0.9764 - val_loss: 0.0847 - val_accuracy: 0.9681\n",
      "Epoch 88/100\n",
      "12/12 [==============================] - 0s 4ms/step - loss: 0.0879 - accuracy: 0.9764 - val_loss: 0.0843 - val_accuracy: 0.9681\n",
      "Epoch 89/100\n",
      "12/12 [==============================] - 0s 4ms/step - loss: 0.0874 - accuracy: 0.9764 - val_loss: 0.0840 - val_accuracy: 0.9681\n",
      "Epoch 90/100\n",
      "12/12 [==============================] - 0s 4ms/step - loss: 0.0870 - accuracy: 0.9764 - val_loss: 0.0837 - val_accuracy: 0.9681\n",
      "Epoch 91/100\n",
      "12/12 [==============================] - 0s 4ms/step - loss: 0.0867 - accuracy: 0.9764 - val_loss: 0.0832 - val_accuracy: 0.9681\n",
      "Epoch 92/100\n",
      "12/12 [==============================] - 0s 4ms/step - loss: 0.0863 - accuracy: 0.9764 - val_loss: 0.0830 - val_accuracy: 0.9681\n",
      "Epoch 93/100\n",
      "12/12 [==============================] - 0s 4ms/step - loss: 0.0859 - accuracy: 0.9764 - val_loss: 0.0826 - val_accuracy: 0.9681\n",
      "Epoch 94/100\n",
      "12/12 [==============================] - 0s 4ms/step - loss: 0.0855 - accuracy: 0.9764 - val_loss: 0.0824 - val_accuracy: 0.9681\n",
      "Epoch 95/100\n",
      "12/12 [==============================] - 0s 5ms/step - loss: 0.0852 - accuracy: 0.9764 - val_loss: 0.0821 - val_accuracy: 0.9681\n",
      "Epoch 96/100\n",
      "12/12 [==============================] - 0s 4ms/step - loss: 0.0849 - accuracy: 0.9764 - val_loss: 0.0819 - val_accuracy: 0.9681\n",
      "Epoch 97/100\n",
      "12/12 [==============================] - 0s 4ms/step - loss: 0.0845 - accuracy: 0.9764 - val_loss: 0.0815 - val_accuracy: 0.9681\n",
      "Epoch 98/100\n",
      "12/12 [==============================] - 0s 4ms/step - loss: 0.0841 - accuracy: 0.9764 - val_loss: 0.0811 - val_accuracy: 0.9681\n",
      "Epoch 99/100\n",
      "12/12 [==============================] - 0s 4ms/step - loss: 0.0838 - accuracy: 0.9790 - val_loss: 0.0809 - val_accuracy: 0.9681\n",
      "Epoch 100/100\n",
      "12/12 [==============================] - 0s 4ms/step - loss: 0.0835 - accuracy: 0.9790 - val_loss: 0.0807 - val_accuracy: 0.9681\n",
      "12/12 [==============================] - 0s 914us/step - loss: 0.0832 - accuracy: 0.9790\n",
      " Training-set Score:  [0.08324042707681656, 0.9790025949478149]\n",
      "6/6 [==============================] - 0s 1ms/step - loss: 0.0807 - accuracy: 0.9681\n",
      " Test-set Score:  [0.08069099485874176, 0.9680851101875305]\n"
     ]
    }
   ],
   "source": [
    "#Train the model\n",
    "\n",
    "r = model.fit(X_train,y_train, validation_data = (X_test,y_test), epochs = 100)\n",
    "\n",
    "print(\" Training-set Score: \", model.evaluate(X_train,y_train))\n",
    "print(\" Test-set Score: \", model.evaluate(X_test,y_test))\n"
   ]
  },
  {
   "cell_type": "code",
   "execution_count": 30,
   "metadata": {},
   "outputs": [
    {
     "data": {
      "text/plain": [
       "<matplotlib.legend.Legend at 0x19248939f08>"
      ]
     },
     "execution_count": 30,
     "metadata": {},
     "output_type": "execute_result"
    },
    {
     "data": {
      "image/png": "[encoded data removed]",
      "text/plain": [
       "<Figure size 432x288 with 1 Axes>"
      ]
     },
     "metadata": {
      "needs_background": "light"
     },
     "output_type": "display_data"
    }
   ],
   "source": [
    "#Plot the Loss, per iteration\n",
    "import matplotlib.pyplot as plt\n",
    "\n",
    "plt.plot(r.history['loss'], label = 'loss')\n",
    "plt.plot(r.history['val_loss'], label = 'val_loss')\n",
    "plt.legend()"
   ]
  },
  {
   "cell_type": "code",
   "execution_count": 31,
   "metadata": {},
   "outputs": [
    {
     "data": {
      "text/plain": [
       "[<matplotlib.lines.Line2D at 0x1924dbe21c8>]"
      ]
     },
     "execution_count": 31,
     "metadata": {},
     "output_type": "execute_result"
    },
    {
     "data": {
      "image/png": "[encoded data removed]",
      "text/plain": [
       "<Figure size 432x288 with 1 Axes>"
      ]
     },
     "metadata": {
      "needs_background": "light"
     },
     "output_type": "display_data"
    }
   ],
   "source": [
    "#Plot the Accuracy, per iteration\n",
    "\n",
    "plt.plot(r.history['accuracy'], label = 'accuracy')\n",
    "plt.plot(r.history['val_accuracy'], label = 'val_accuracy')"
   ]
  },
  {
   "cell_type": "markdown",
   "metadata": {},
   "source": [
    "# Predictions\n"
   ]
  },
  {
   "cell_type": "code",
   "execution_count": null,
   "metadata": {},
   "outputs": [],
   "source": []
  }
 ],
 "metadata": {
  "kernelspec": {
   "display_name": "new",
   "language": "python",
   "name": "new"
  },
  "language_info": {
   "codemirror_mode": {
    "name": "ipython",
    "version": 3
   },
   "file_extension": ".py",
   "mimetype": "text/x-python",
   "name": "python",
   "nbconvert_exporter": "python",
   "pygments_lexer": "ipython3",
   "version": "3.7.6"
  }
 },
 "nbformat": 4,
 "nbformat_minor": 2
}
